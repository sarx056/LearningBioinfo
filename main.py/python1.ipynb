{
 "cells": [
  {
   "cell_type": "markdown",
   "metadata": {},
   "source": [
    "# # Welcome to LearningPY!"
   ]
  },
  {
   "cell_type": "code",
   "execution_count": null,
   "metadata": {},
   "outputs": [],
   "source": [
    "#Week 1 - printing strings, taking inputs, variables, equality function "
   ]
  },
  {
   "cell_type": "code",
   "execution_count": 1,
   "metadata": {
    "scrolled": true
   },
   "outputs": [
    {
     "name": "stdout",
     "output_type": "stream",
     "text": [
      "hello chingus\n"
     ]
    }
   ],
   "source": [
    "#chingu means friend in korean, i just like it the way it sounds \n",
    "print('hello chingus')"
   ]
  },
  {
   "cell_type": "code",
   "execution_count": 2,
   "metadata": {},
   "outputs": [
    {
     "name": "stdout",
     "output_type": "stream",
     "text": [
      "whats your age?: 19\n",
      "wow so young\n"
     ]
    }
   ],
   "source": [
    "input('whats your age?: ')\n",
    "print('wow so young')"
   ]
  },
  {
   "cell_type": "code",
   "execution_count": 3,
   "metadata": {},
   "outputs": [
    {
     "name": "stdout",
     "output_type": "stream",
     "text": [
      "False\n"
     ]
    }
   ],
   "source": [
    "#using the equality function \n",
    "age = 23 \n",
    "new_age = 26\n",
    "print(age == new_age)"
   ]
  },
  {
   "cell_type": "code",
   "execution_count": 4,
   "metadata": {},
   "outputs": [
    {
     "name": "stdout",
     "output_type": "stream",
     "text": [
      "True\n"
     ]
    }
   ],
   "source": [
    "#using the inequality function \n",
    "name = 'sara zainab'\n",
    "mothers_name = 'saleema zainab'\n",
    "print(name != mothers_name)"
   ]
  },
  {
   "cell_type": "code",
   "execution_count": 6,
   "metadata": {},
   "outputs": [
    {
     "name": "stdout",
     "output_type": "stream",
     "text": [
      "whats your fav food: briyani\n",
      "True\n"
     ]
    }
   ],
   "source": [
    "#taking inputs \n",
    "fav_food = 'briyani'\n",
    "user_answer = input('whats your fav food: ')\n",
    "if user_answer == 'briyani':\n",
    "    print(True)"
   ]
  },
  {
   "cell_type": "code",
   "execution_count": 3,
   "metadata": {},
   "outputs": [
    {
     "name": "stdout",
     "output_type": "stream",
     "text": [
      "daytime?\n",
      "False\n",
      "lights on?\n",
      "True\n"
     ]
    }
   ],
   "source": [
    "#Project-1: Let's make a smart light switch \n",
    "#create a smart light switch that turns off at daytime and turns on at nightime on its own \n",
    "#will use is_day as our variable \n",
    "\n",
    "is_day = False \n",
    "lights_on = not is_day \n",
    "\n",
    "print('daytime?')\n",
    "print(is_day)\n",
    "\n",
    "print('lights on?')\n",
    "print(lights_on)\n"
   ]
  },
  {
   "cell_type": "code",
   "execution_count": 4,
   "metadata": {},
   "outputs": [
    {
     "name": "stdout",
     "output_type": "stream",
     "text": [
      "daytime?\n",
      "True\n",
      "lights on?\n",
      "False\n"
     ]
    }
   ],
   "source": [
    "#vice versa \n",
    "is_day = True \n",
    "lights_on = not is_day \n",
    "\n",
    "print('daytime?')\n",
    "print(is_day)\n",
    "\n",
    "print('lights on?')\n",
    "print(lights_on)\n"
   ]
  },
  {
   "cell_type": "code",
   "execution_count": 1,
   "metadata": {},
   "outputs": [
    {
     "name": "stdout",
     "output_type": "stream",
     "text": [
      "Is it daytime or nightime right now?: daytime\n",
      "lights off!\n"
     ]
    }
   ],
   "source": [
    "#I think this previous code, which is the method my app says, is kinda lengthy or not efficient\n",
    "#making your code work efficiently is important \n",
    "#I'm gonna try on my own now \n",
    "\n",
    "question = input('Is it daytime or nightime right now?: ')\n",
    "if question == 'daytime': \n",
    "     print('lights off!')\n",
    "elif question == 'night time': \n",
    "    print('lights on!')   \n",
    "else: \n",
    "     print('your choice!')\n",
    "#see, its short and it works. But ofc this is prolly not how they work in the real world. "
   ]
  },
  {
   "cell_type": "code",
   "execution_count": null,
   "metadata": {},
   "outputs": [],
   "source": [
    "#I totally forgot to go over type of values or types in python cuz i've already learned them. Lets go through them once \n",
    "Boolean = True \n",
    "Boolean_2 = False\n",
    "String = 'hello world'\n",
    "string_2 = \"hello world x 2 \"\n",
    "int = 45\n",
    "float = 3.14 \n"
   ]
  },
  {
   "cell_type": "code",
   "execution_count": 3,
   "metadata": {},
   "outputs": [
    {
     "name": "stdout",
     "output_type": "stream",
     "text": [
      "3\n",
      "<class 'int'>\n"
     ]
    }
   ],
   "source": [
    "#converting types and finding what type it is\n",
    "num = 3 \n",
    "print(str(num))\n",
    "print(type(num))"
   ]
  },
  {
   "cell_type": "code",
   "execution_count": 6,
   "metadata": {},
   "outputs": [
    {
     "name": "stdout",
     "output_type": "stream",
     "text": [
      "0\n",
      "<class 'float'>\n"
     ]
    }
   ],
   "source": [
    "#lets do more examples \n",
    "its_float = 0.999\n",
    "print(int(its_float))\n",
    "print(type(its_float))"
   ]
  },
  {
   "cell_type": "code",
   "execution_count": 7,
   "metadata": {},
   "outputs": [
    {
     "name": "stdout",
     "output_type": "stream",
     "text": [
      "True\n",
      "<class 'str'>\n"
     ]
    }
   ],
   "source": [
    "im_sara = \"True\"\n",
    "print(bool(im_sara))\n",
    "print(type(im_sara))"
   ]
  },
  {
   "cell_type": "code",
   "execution_count": 14,
   "metadata": {},
   "outputs": [
    {
     "data": {
      "text/plain": [
       "'KIRIGAN'"
      ]
     },
     "execution_count": 14,
     "metadata": {},
     "output_type": "execute_result"
    }
   ],
   "source": [
    "lowercase_name = \"kirigan\"\n",
    "lowercase_name.upper()\n",
    "#uppercase function"
   ]
  },
  {
   "cell_type": "code",
   "execution_count": 16,
   "metadata": {},
   "outputs": [
    {
     "data": {
      "text/plain": [
       "'layla'"
      ]
     },
     "execution_count": 16,
     "metadata": {},
     "output_type": "execute_result"
    }
   ],
   "source": [
    "uppercase_name = 'LAYLA' \n",
    "uppercase_name.lower()\n",
    "#lowercase function"
   ]
  },
  {
   "cell_type": "code",
   "execution_count": 17,
   "metadata": {},
   "outputs": [
    {
     "name": "stdout",
     "output_type": "stream",
     "text": [
      "25\n"
     ]
    }
   ],
   "source": [
    "words = \"how many letters is this?\"\n",
    "print(len(words))\n",
    "#length function "
   ]
  },
  {
   "cell_type": "code",
   "execution_count": 1,
   "metadata": {},
   "outputs": [
    {
     "name": "stdout",
     "output_type": "stream",
     "text": [
      "3.7.10 | packaged by conda-forge | (default, Feb 19 2021, 16:07:37) \n",
      "[GCC 9.3.0]\n"
     ]
    }
   ],
   "source": [
    "#check what version of python are we using \n",
    "import sys\n",
    "print(sys.version)"
   ]
  },
  {
   "cell_type": "code",
   "execution_count": 2,
   "metadata": {},
   "outputs": [
    {
     "name": "stdout",
     "output_type": "stream",
     "text": [
      "r\n"
     ]
    }
   ],
   "source": [
    "#string operations \n",
    "#indexing \n",
    "name = \"Sara Zainab\"  \n",
    "print(name[2])"
   ]
  },
  {
   "cell_type": "code",
   "execution_count": 3,
   "metadata": {},
   "outputs": [
    {
     "name": "stdout",
     "output_type": "stream",
     "text": [
      "O\n"
     ]
    }
   ],
   "source": [
    "name = \"Oui\"\n",
    "print(name[0])\n"
   ]
  },
  {
   "cell_type": "code",
   "execution_count": 4,
   "metadata": {},
   "outputs": [
    {
     "name": "stdout",
     "output_type": "stream",
     "text": [
      "b\n"
     ]
    }
   ],
   "source": [
    "#negative indexing \n",
    "name = \"Sara Zainab\"\n",
    "print(name[-1])"
   ]
  },
  {
   "cell_type": "code",
   "execution_count": 6,
   "metadata": {},
   "outputs": [
    {
     "name": "stdout",
     "output_type": "stream",
     "text": [
      "k\n"
     ]
    }
   ],
   "source": [
    "name = \"Michael Jackson\"\n",
    "print(name[-4])"
   ]
  },
  {
   "cell_type": "code",
   "execution_count": 8,
   "metadata": {
    "scrolled": true
   },
   "outputs": [
    {
     "name": "stdout",
     "output_type": "stream",
     "text": [
      "Sara\n"
     ]
    }
   ],
   "source": [
    "#slicing\n",
    "name = 'Sara Zainab'\n",
    "print(name[0:4])"
   ]
  },
  {
   "cell_type": "code",
   "execution_count": 10,
   "metadata": {},
   "outputs": [
    {
     "name": "stdout",
     "output_type": "stream",
     "text": [
      "Namjoo\n"
     ]
    }
   ],
   "source": [
    "name = 'Kim Namjoon'\n",
    "print(name[4:10])"
   ]
  },
  {
   "cell_type": "code",
   "execution_count": 11,
   "metadata": {},
   "outputs": [
    {
     "name": "stdout",
     "output_type": "stream",
     "text": [
      "KmSojn\n"
     ]
    }
   ],
   "source": [
    "#striding: which allows us to select and print certain value from the variable \n",
    "name = \"Kim Seokjin\"\n",
    "print(name[::2])"
   ]
  },
  {
   "cell_type": "code",
   "execution_count": 13,
   "metadata": {},
   "outputs": [
    {
     "name": "stdout",
     "output_type": "stream",
     "text": [
      "sara is \n",
      " the best\n"
     ]
    }
   ],
   "source": [
    "#the backlash allows a range of functions: \\n is used for new line \n",
    "print('sara is \\n the best')"
   ]
  },
  {
   "cell_type": "code",
   "execution_count": 14,
   "metadata": {},
   "outputs": [
    {
     "name": "stdout",
     "output_type": "stream",
     "text": [
      "sara is \t the best\n"
     ]
    }
   ],
   "source": [
    "# \\t is used for tab \n",
    "print('sara is \\t the best')"
   ]
  },
  {
   "cell_type": "code",
   "execution_count": 15,
   "metadata": {},
   "outputs": [
    {
     "name": "stdout",
     "output_type": "stream",
     "text": [
      "sara is \\ the best\n"
     ]
    }
   ],
   "source": [
    "# \\\\ is used for i have no idea lets see \n",
    "print('sara is \\\\ the best')"
   ]
  },
  {
   "cell_type": "code",
   "execution_count": 16,
   "metadata": {},
   "outputs": [
    {
     "name": "stdout",
     "output_type": "stream",
     "text": [
      " the best\n"
     ]
    }
   ],
   "source": [
    "# \\r is used for also no idea \n",
    "print('sara is \\r the best')"
   ]
  },
  {
   "cell_type": "code",
   "execution_count": 17,
   "metadata": {},
   "outputs": [
    {
     "name": "stdout",
     "output_type": "stream",
     "text": [
      "sara is the \\ best\n"
     ]
    }
   ],
   "source": [
    "print('sara is the \\ best')"
   ]
  },
  {
   "cell_type": "code",
   "execution_count": 22,
   "metadata": {},
   "outputs": [
    {
     "name": "stdout",
     "output_type": "stream",
     "text": [
      "1\n"
     ]
    }
   ],
   "source": [
    "#finding dem letters \n",
    "name = 'Oui'\n",
    "print(name.find('ui'))"
   ]
  },
  {
   "cell_type": "code",
   "execution_count": 24,
   "metadata": {},
   "outputs": [
    {
     "name": "stdout",
     "output_type": "stream",
     "text": [
      "8\n"
     ]
    }
   ],
   "source": [
    "name = \"Sara Zainab\"\n",
    "print(name.find('nab'))"
   ]
  },
  {
   "cell_type": "code",
   "execution_count": null,
   "metadata": {},
   "outputs": [],
   "source": [
    "#tuples and lists \n"
   ]
  },
  {
   "cell_type": "code",
   "execution_count": null,
   "metadata": {},
   "outputs": [],
   "source": []
  },
  {
   "cell_type": "code",
   "execution_count": 2,
   "metadata": {},
   "outputs": [
    {
     "name": "stdout",
     "output_type": "stream",
     "text": [
      "hello world\n",
      "ahhh\n",
      "ahhh2\n"
     ]
    }
   ],
   "source": [
    "#functions and return statements \n",
    "#a function is a collection of code\n",
    "def function1():\n",
    "    print('ahhh')\n",
    "    print('ahhh2') \n",
    "    \n",
    "print('hello world')\n",
    "#as you can see when i run this cell only the hello world is printed\n",
    "#as it is outside the function, to print the code inside function; \n",
    "function1()\n",
    "#you can just call the function "
   ]
  },
  {
   "cell_type": "code",
   "execution_count": 10,
   "metadata": {},
   "outputs": [],
   "source": [
    "#you can also use functions as a way of mapping \n",
    "def function(x): \n",
    "    return 2*x "
   ]
  },
  {
   "cell_type": "code",
   "execution_count": 11,
   "metadata": {},
   "outputs": [
    {
     "name": "stdout",
     "output_type": "stream",
     "text": [
      "6\n"
     ]
    }
   ],
   "source": [
    "a = function(3)\n",
    "print(a)\n",
    "#return function, well returns the code when called\n",
    "#here function(x) where x is input is given a variable\n",
    "#and printed"
   ]
  },
  {
   "cell_type": "code",
   "execution_count": 12,
   "metadata": {},
   "outputs": [
    {
     "name": "stdout",
     "output_type": "stream",
     "text": [
      "8\n"
     ]
    }
   ],
   "source": [
    "b = function(4)\n",
    "print(b)"
   ]
  },
  {
   "cell_type": "code",
   "execution_count": 17,
   "metadata": {},
   "outputs": [],
   "source": [
    "#we can also have multiple inputs or arguments \n",
    "def function_2(x, y): \n",
    "    return x+y "
   ]
  },
  {
   "cell_type": "code",
   "execution_count": 18,
   "metadata": {},
   "outputs": [
    {
     "name": "stdout",
     "output_type": "stream",
     "text": [
      "7\n"
     ]
    }
   ],
   "source": [
    "a_1 = function_2(3, 4)\n",
    "print(a_1)"
   ]
  },
  {
   "cell_type": "code",
   "execution_count": 19,
   "metadata": {},
   "outputs": [],
   "source": [
    "def function_3(x): \n",
    "    print(x)\n",
    "    print('lolz still here')\n",
    "    return 2*x "
   ]
  },
  {
   "cell_type": "code",
   "execution_count": 22,
   "metadata": {},
   "outputs": [
    {
     "name": "stdout",
     "output_type": "stream",
     "text": [
      "5\n",
      "lolz still here\n",
      "10\n"
     ]
    }
   ],
   "source": [
    "b_1 = function_3(5)\n",
    "print(b_1)"
   ]
  },
  {
   "cell_type": "code",
   "execution_count": 24,
   "metadata": {},
   "outputs": [],
   "source": [
    "#lets make a BMI calculator :D\n",
    "name1 = 'Sara'\n",
    "weight1 = 57\n",
    "height1 = 1.6\n",
    "\n",
    "name2= 'Oui'\n",
    "weight2 = 80 \n",
    "height2 = 1.62\n",
    "\n",
    "name3 = 'Patti'\n",
    "weight3 = 72 \n",
    "height3 = 1.8\n"
   ]
  },
  {
   "cell_type": "code",
   "execution_count": 31,
   "metadata": {},
   "outputs": [],
   "source": [
    "def bmi_calculator(name, weight, height): \n",
    "    bmi = weight / (height * 2)\n",
    "    print('bmi: ')\n",
    "    print(bmi)\n",
    "    if bmi < 25: \n",
    "        return name + ' is not overweight'\n",
    "    else: \n",
    "        return name + ' is overweight'\n",
    "    "
   ]
  },
  {
   "cell_type": "code",
   "execution_count": 32,
   "metadata": {},
   "outputs": [
    {
     "name": "stdout",
     "output_type": "stream",
     "text": [
      "bmi: \n",
      "0.014035087719298246\n",
      "bmi: \n",
      "0.010125\n",
      "bmi: \n",
      "0.0125\n"
     ]
    }
   ],
   "source": [
    "result1 = bmi_calculator(name1, height1, weight1)\n",
    "result2 = bmi_calculator(name2, height2, weight2)\n",
    "result3 = bmi_calculator(name3, height3, weight3)"
   ]
  },
  {
   "cell_type": "code",
   "execution_count": 33,
   "metadata": {},
   "outputs": [
    {
     "name": "stdout",
     "output_type": "stream",
     "text": [
      "Sara is not overweight\n",
      "Oui is not overweight\n",
      "Patti is not overweight\n"
     ]
    }
   ],
   "source": [
    "print(result1) \n",
    "print(result2) \n",
    "print(result3) "
   ]
  },
  {
   "cell_type": "code",
   "execution_count": 6,
   "metadata": {},
   "outputs": [
    {
     "name": "stdin",
     "output_type": "stream",
     "text": [
      "are you a boy or a girl:  boy\n"
     ]
    },
    {
     "name": "stdout",
     "output_type": "stream",
     "text": [
      "you are a girl\n"
     ]
    }
   ],
   "source": [
    "#lets work on if statements and comparisons \n",
    "boolean = input('are you a boy or a girl: ')\n",
    "if input == 'boy':\n",
    "    print('you are a boy')\n",
    "else:\n",
    "    print ('you are a girl')\n"
   ]
  },
  {
   "cell_type": "code",
   "execution_count": 8,
   "metadata": {},
   "outputs": [
    {
     "name": "stdout",
     "output_type": "stream",
     "text": [
      "4\n"
     ]
    }
   ],
   "source": [
    "def num_max(num1, num2, num3): \n",
    "    if num1 >= num2 and num2 >= num3:\n",
    "        return num1 \n",
    "    elif num2 >= num1 and num2 >= num3: \n",
    "        return num2 \n",
    "    else: \n",
    "        return num3 \n",
    "print(num_max(2, 3, 4))\n",
    "#here we are making comparisons "
   ]
  },
  {
   "cell_type": "code",
   "execution_count": 7,
   "metadata": {},
   "outputs": [],
   "source": [
    "#dictionaries are a type of data where values are stored under a 'key'\n",
    "#unlike other types of data where values are stored under a single variable \n",
    "month_conversions = {\n",
    "    'jan' : 'january', \n",
    "    'feb' : 'february', \n",
    "    'mar' : 'march', \n",
    "}"
   ]
  },
  {
   "cell_type": "code",
   "execution_count": 8,
   "metadata": {},
   "outputs": [
    {
     "name": "stdout",
     "output_type": "stream",
     "text": [
      "january\n",
      "march\n"
     ]
    }
   ],
   "source": [
    "# we can print out the data in 2 ways \n",
    "print(month_conversions['jan'])\n",
    "#we can use get() function \n",
    "print(month_conversions.get('mar'))"
   ]
  },
  {
   "cell_type": "code",
   "execution_count": 9,
   "metadata": {},
   "outputs": [
    {
     "name": "stdout",
     "output_type": "stream",
     "text": [
      "1\n",
      "2\n",
      "3\n",
      "4\n",
      "5\n",
      "6\n",
      "7\n",
      "8\n",
      "9\n",
      "10\n",
      "loop is done\n"
     ]
    }
   ],
   "source": [
    "# lets do while loops\n",
    "#so basically in a while function, the condition or the code is repeated or 'looped' until the condition becomes false\n",
    "#lets see an example\n",
    "s = 1\n",
    "while s <= 10:\n",
    "    print(s)\n",
    "    s += 1\n",
    "print('loop is done')\n",
    "#in line 19 you see the condtion meaning s if its less than or equal to 10 keep looping until it is false\n",
    "#hence we see the code stop at 10 in the console"
   ]
  },
  {
   "cell_type": "code",
   "execution_count": 10,
   "metadata": {},
   "outputs": [
    {
     "name": "stdout",
     "output_type": "stream",
     "text": [
      "hint; i may be a teen or an adult\n"
     ]
    },
    {
     "name": "stdin",
     "output_type": "stream",
     "text": [
      "guess my age:  23\n"
     ]
    },
    {
     "name": "stdout",
     "output_type": "stream",
     "text": [
      "wrong!\n"
     ]
    },
    {
     "name": "stdin",
     "output_type": "stream",
     "text": [
      "try again:  20\n"
     ]
    },
    {
     "name": "stdout",
     "output_type": "stream",
     "text": [
      "you are right!\n"
     ]
    }
   ],
   "source": [
    "#making a simple guessing game\n",
    "the_answer = '20'\n",
    "print('hint; i may be a teen or an adult')\n",
    "guess = input('guess my age: ')\n",
    "guess_count = 0\n",
    "guess_limit = 3\n",
    "outof_guesses = False\n",
    "while guess != the_answer and not (outof_guesses):\n",
    "    print('wrong!')\n",
    "    if guess_count <= guess_limit:\n",
    "        guess = input('try again: ')\n",
    "        guess_count += 1\n",
    "    else:\n",
    "        outof_guesses = True\n",
    "        print('you lose!')\n",
    "    if guess == the_answer:\n",
    "        print('you are right!')"
   ]
  },
  {
   "cell_type": "code",
   "execution_count": 1,
   "metadata": {},
   "outputs": [
    {
     "name": "stdout",
     "output_type": "stream",
     "text": [
      "feet in miles is 121440\n"
     ]
    }
   ],
   "source": [
    "#function to find feet in miles\n",
    "def miles_to_feet(feet):\n",
    "    return 'feet in miles is ' + str(feet*5280 )\n",
    "result = miles_to_feet(23)\n",
    "print(result)\n",
    "\n"
   ]
  },
  {
   "cell_type": "code",
   "execution_count": 2,
   "metadata": {},
   "outputs": [
    {
     "name": "stdout",
     "output_type": "stream",
     "text": [
      "total number of seconds in an hour, a minute and a second are \n",
      "3600\n",
      "60\n",
      "1\n",
      "None\n"
     ]
    }
   ],
   "source": [
    "#making a function to know how many seconds are there in an hour, minute and a second\n",
    "def total_seconds(hours, minutes, seconds):\n",
    "    print('total number of seconds in an hour, a minute and a second are ')\n",
    "    print(str(hours))\n",
    "    print(str(minutes))\n",
    "    print(str(seconds))\n",
    "result2  = total_seconds(3600,60,1)\n",
    "print(result2)"
   ]
  },
  {
   "cell_type": "code",
   "execution_count": 5,
   "metadata": {},
   "outputs": [
    {
     "name": "stdout",
     "output_type": "stream",
     "text": [
      "triangle with vertices \n",
      "00 and 34 and 11\n",
      "has an area of 0.21096249110204054\n",
      "triangle with vertices \n",
      "12 and 44 and 64\n",
      "has an area of 2.139509193653547\n"
     ]
    }
   ],
   "source": [
    "#challenge function, finding out triangle's area using herons formulae\n",
    "\n",
    "import math\n",
    "def point_distance(x0,y0,x1,y1):\n",
    "    return ((x0-x1)**2 + (y0-y1)**2) ** 0.5\n",
    "\n",
    "#using helper functions to compute the formula\n",
    "\n",
    "def triangle_area(x0,y0,x1,y1,x2,y2):\n",
    "    a = point_distance(x0,y0,x1,y1)\n",
    "    b = point_distance(x0,y0,x2,y2)\n",
    "    c = point_distance(x1,y1,x2,y2)\n",
    "    s = (a + b + c) / 2\n",
    "    return s*(s-a)*(s-b)*(s-c)** 0.5\n",
    "\n",
    "#the function is now complete\n",
    "def test(x0,y0,x1,y1,x2,y2):\n",
    "    print('triangle with vertices ')\n",
    "    print(str(x0) + str(y0) + (' and ')+ str(x1) + str(y1) + (' and ')+ str(x2) + str(y2))\n",
    "    print('has an area of ' + str(triangle_area(x0,y0,x1,y1,x2,y2)))\n",
    "    \n",
    "#using test function to calculate the values\n",
    "\n",
    "test(0,0,3,4,1,1)\n",
    "test(1,2,4,4,6,4)\n"
   ]
  },
  {
   "cell_type": "code",
   "execution_count": 4,
   "metadata": {},
   "outputs": [
    {
     "name": "stdout",
     "output_type": "stream",
     "text": [
      "todays numbers are; \n",
      "22\n",
      "55\n",
      "52\n",
      "27\n",
      "and todays lottery number is! \n",
      "54\n",
      "todays numbers are; \n",
      "48\n",
      "58\n",
      "24\n",
      "60\n",
      "and todays lottery number is! \n",
      "20\n",
      "todays numbers are; \n",
      "57\n",
      "51\n",
      "40\n",
      "31\n",
      "and todays lottery number is! \n",
      "58\n"
     ]
    }
   ],
   "source": [
    "#now lets make a lottery powerball\n",
    "import random\n",
    "def powerball():\n",
    "    print('todays numbers are; ')\n",
    "    print(random.randint(1,60))\n",
    "    print(random.randint(1,60))\n",
    "    print(random.randint(1,60))\n",
    "    print(random.randint(1,60))\n",
    "    print('and todays lottery number is! ')\n",
    "    print(random.randint(1,60))\n",
    "powerball()\n",
    "powerball()\n",
    "powerball()"
   ]
  },
  {
   "cell_type": "code",
   "execution_count": null,
   "metadata": {},
   "outputs": [],
   "source": []
  }
 ],
 "metadata": {
  "kernelspec": {
   "display_name": "Python 3 (ipykernel)",
   "language": "python",
   "name": "python3"
  },
  "language_info": {
   "codemirror_mode": {
    "name": "ipython",
    "version": 3
   },
   "file_extension": ".py",
   "mimetype": "text/x-python",
   "name": "python",
   "nbconvert_exporter": "python",
   "pygments_lexer": "ipython3",
   "version": "3.7.12"
  }
 },
 "nbformat": 4,
 "nbformat_minor": 4
}
